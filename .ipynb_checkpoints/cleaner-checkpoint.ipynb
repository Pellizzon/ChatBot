{
 "cells": [
  {
   "cell_type": "code",
   "execution_count": 1,
   "metadata": {},
   "outputs": [],
   "source": [
    "import pandas as pd"
   ]
  },
  {
   "cell_type": "code",
   "execution_count": 5,
   "metadata": {},
   "outputs": [],
   "source": [
    "data = pd.read_csv(\"sentencas.csv\")"
   ]
  },
  {
   "cell_type": "code",
   "execution_count": 6,
   "metadata": {},
   "outputs": [],
   "source": [
    "data.drop('Timestamp',\n",
    "  axis='columns', inplace=True)"
   ]
  },
  {
   "cell_type": "code",
   "execution_count": 19,
   "metadata": {},
   "outputs": [],
   "source": [
    "#Frases em letras minúsculas\n",
    "data[\"Sentença\"] = data[\"Sentença\"].str.lower()"
   ]
  },
  {
   "cell_type": "code",
   "execution_count": 20,
   "metadata": {},
   "outputs": [
    {
     "ename": "SyntaxError",
     "evalue": "invalid syntax (<ipython-input-20-d238d6b10794>, line 2)",
     "output_type": "error",
     "traceback": [
      "\u001b[1;36m  File \u001b[1;32m\"<ipython-input-20-d238d6b10794>\"\u001b[1;36m, line \u001b[1;32m2\u001b[0m\n\u001b[1;33m    return data[\"Sentença\"] = data[\"Sentença\"].str.lower()\u001b[0m\n\u001b[1;37m                            ^\u001b[0m\n\u001b[1;31mSyntaxError\u001b[0m\u001b[1;31m:\u001b[0m invalid syntax\n"
     ]
    }
   ],
   "source": [
    "def minusculas(data):\n",
    "    data = data[\"Sentença\"].str.lower()\n",
    "    return data"
   ]
  },
  {
   "cell_type": "code",
   "execution_count": null,
   "metadata": {},
   "outputs": [],
   "source": [
    "def remove_digitos(data):\n",
    "    data['Sentença'] = data['Sentença'].str.replace('\\W', '')\n",
    "    return data\n",
    "\n",
    "def pega_palavras(tokens):\n",
    "    return [token for token in tokens if re.fullmatch('\\w+', token)]\n",
    "\n",
    "def limpa_tokens(tokens):\n",
    "    tokens = minusculas(tokens)\n",
    "    tokens = remove_digitos(tokens)\n",
    "    tokens = pega_palavras(tokens)\n",
    "    return tokens"
   ]
  },
  {
   "cell_type": "code",
   "execution_count": 16,
   "metadata": {},
   "outputs": [],
   "source": [
    "# data[\"Sentença\"] = data[\"Sentença\"].replace(0,\"Consultar saldo da conta\")\n",
    "# data[\"Sentença\"] = data[\"Sentença\"].replace(1,\"Interagir com a luz ou o ar-condicionado\")\n",
    "# data[\"Sentença\"] = data[\"Sentença\"].replace(2,\"Obter informações relativas ao clima\")"
   ]
  },
  {
   "cell_type": "code",
   "execution_count": 17,
   "metadata": {},
   "outputs": [
    {
     "data": {
      "text/html": [
       "<div>\n",
       "<style scoped>\n",
       "    .dataframe tbody tr th:only-of-type {\n",
       "        vertical-align: middle;\n",
       "    }\n",
       "\n",
       "    .dataframe tbody tr th {\n",
       "        vertical-align: top;\n",
       "    }\n",
       "\n",
       "    .dataframe thead th {\n",
       "        text-align: right;\n",
       "    }\n",
       "</style>\n",
       "<table border=\"1\" class=\"dataframe\">\n",
       "  <thead>\n",
       "    <tr style=\"text-align: right;\">\n",
       "      <th></th>\n",
       "      <th>Intenção</th>\n",
       "      <th>Sentença</th>\n",
       "    </tr>\n",
       "  </thead>\n",
       "  <tbody>\n",
       "    <tr>\n",
       "      <th>0</th>\n",
       "      <td>Consultar saldo da conta</td>\n",
       "      <td>qual o meu saldo</td>\n",
       "    </tr>\n",
       "    <tr>\n",
       "      <th>1</th>\n",
       "      <td>Interagir com a luz ou o ar-condicionado</td>\n",
       "      <td>ligue a luz</td>\n",
       "    </tr>\n",
       "    <tr>\n",
       "      <th>2</th>\n",
       "      <td>Consultar saldo da conta</td>\n",
       "      <td>me diga meu saldo</td>\n",
       "    </tr>\n",
       "    <tr>\n",
       "      <th>3</th>\n",
       "      <td>Consultar saldo da conta</td>\n",
       "      <td>qual o meu saldo?</td>\n",
       "    </tr>\n",
       "    <tr>\n",
       "      <th>4</th>\n",
       "      <td>Interagir com a luz ou o ar-condicionado</td>\n",
       "      <td>está muito claro</td>\n",
       "    </tr>\n",
       "    <tr>\n",
       "      <th>...</th>\n",
       "      <td>...</td>\n",
       "      <td>...</td>\n",
       "    </tr>\n",
       "    <tr>\n",
       "      <th>119</th>\n",
       "      <td>Interagir com a luz ou o ar-condicionado</td>\n",
       "      <td>aumente o ar</td>\n",
       "    </tr>\n",
       "    <tr>\n",
       "      <th>120</th>\n",
       "      <td>Consultar saldo da conta</td>\n",
       "      <td>qual é o meu maior custo atualmente</td>\n",
       "    </tr>\n",
       "    <tr>\n",
       "      <th>121</th>\n",
       "      <td>Interagir com a luz ou o ar-condicionado</td>\n",
       "      <td>diminua o ar</td>\n",
       "    </tr>\n",
       "    <tr>\n",
       "      <th>122</th>\n",
       "      <td>Consultar saldo da conta</td>\n",
       "      <td>foxbot, quanto dinheiro tenho pra gastar?</td>\n",
       "    </tr>\n",
       "    <tr>\n",
       "      <th>123</th>\n",
       "      <td>Obter informações relativas ao clima</td>\n",
       "      <td>qual é o clima da próxima quinta feira?</td>\n",
       "    </tr>\n",
       "  </tbody>\n",
       "</table>\n",
       "<p>124 rows × 2 columns</p>\n",
       "</div>"
      ],
      "text/plain": [
       "                                     Intenção  \\\n",
       "0                    Consultar saldo da conta   \n",
       "1    Interagir com a luz ou o ar-condicionado   \n",
       "2                    Consultar saldo da conta   \n",
       "3                    Consultar saldo da conta   \n",
       "4    Interagir com a luz ou o ar-condicionado   \n",
       "..                                        ...   \n",
       "119  Interagir com a luz ou o ar-condicionado   \n",
       "120                  Consultar saldo da conta   \n",
       "121  Interagir com a luz ou o ar-condicionado   \n",
       "122                  Consultar saldo da conta   \n",
       "123      Obter informações relativas ao clima   \n",
       "\n",
       "                                      Sentença  \n",
       "0                             qual o meu saldo  \n",
       "1                                  ligue a luz  \n",
       "2                            me diga meu saldo  \n",
       "3                            qual o meu saldo?  \n",
       "4                             está muito claro  \n",
       "..                                         ...  \n",
       "119                               aumente o ar  \n",
       "120        qual é o meu maior custo atualmente  \n",
       "121                               diminua o ar  \n",
       "122  foxbot, quanto dinheiro tenho pra gastar?  \n",
       "123    qual é o clima da próxima quinta feira?  \n",
       "\n",
       "[124 rows x 2 columns]"
      ]
     },
     "execution_count": 17,
     "metadata": {},
     "output_type": "execute_result"
    }
   ],
   "source": [
    "data"
   ]
  },
  {
   "cell_type": "code",
   "execution_count": null,
   "metadata": {},
   "outputs": [],
   "source": []
  }
 ],
 "metadata": {
  "kernelspec": {
   "display_name": "Python 3",
   "language": "python",
   "name": "python3"
  },
  "language_info": {
   "codemirror_mode": {
    "name": "ipython",
    "version": 3
   },
   "file_extension": ".py",
   "mimetype": "text/x-python",
   "name": "python",
   "nbconvert_exporter": "python",
   "pygments_lexer": "ipython3",
   "version": "3.8.2"
  }
 },
 "nbformat": 4,
 "nbformat_minor": 4
}
